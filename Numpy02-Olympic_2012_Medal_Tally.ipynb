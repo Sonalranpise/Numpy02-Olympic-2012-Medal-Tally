{
 "cells": [
  {
   "cell_type": "markdown",
   "id": "1d8b466d",
   "metadata": {},
   "source": [
    "## Evaluate the dataset of the Summer Olympics, London 2012 to:"
   ]
  },
  {
   "cell_type": "code",
   "execution_count": 1,
   "id": "8f20db02",
   "metadata": {},
   "outputs": [],
   "source": [
    "# Import Required Libraries\n",
    "import numpy as np"
   ]
  },
  {
   "cell_type": "code",
   "execution_count": 2,
   "id": "4e247345",
   "metadata": {},
   "outputs": [],
   "source": [
    "# Load dataset\n",
    "np_olympic_country = np.array(['GBR','China','RUS','US','KOR','JPN','GER'])\n",
    "np_olympic_country_Gold = np.array([29,38,24,46,13,7,11])\n",
    "np_olympic_country_Silver = np.array([17,28,25,28,8,14,11])\n",
    "np_olympic_country_Bronze = np.array([19,22,32,29,7,17,14])"
   ]
  },
  {
   "cell_type": "code",
   "execution_count": 4,
   "id": "5fb0bb0b",
   "metadata": {},
   "outputs": [
    {
     "data": {
      "text/plain": [
       "3"
      ]
     },
     "execution_count": 4,
     "metadata": {},
     "output_type": "execute_result"
    }
   ],
   "source": [
    "# Task01: Find and print the name of the country that won maximum gold medals\n",
    "max_gold_medals = np_olympic_country.argmax()\n",
    "max_gold_medals"
   ]
  },
  {
   "cell_type": "code",
   "execution_count": 6,
   "id": "f3c42a0a",
   "metadata": {},
   "outputs": [
    {
     "data": {
      "text/plain": [
       "'US'"
      ]
     },
     "execution_count": 6,
     "metadata": {},
     "output_type": "execute_result"
    }
   ],
   "source": [
    "country_with_won_max_gold_medals = np_olympic_country[max_gold_medals]\n",
    "country_with_won_max_gold_medals"
   ]
  },
  {
   "cell_type": "code",
   "execution_count": 8,
   "id": "28419c89",
   "metadata": {},
   "outputs": [
    {
     "name": "stdout",
     "output_type": "stream",
     "text": [
      "['GBR' 'China' 'RUS' 'US']\n"
     ]
    }
   ],
   "source": [
    "# Task02: Find and print the countries who won more than 20 gold medals\n",
    "print(np_olympic_country[np_olympic_country_Gold>20])"
   ]
  },
  {
   "cell_type": "code",
   "execution_count": 7,
   "id": "f0d64344",
   "metadata": {},
   "outputs": [
    {
     "data": {
      "text/plain": [
       "array([ True,  True,  True,  True, False, False, False])"
      ]
     },
     "execution_count": 7,
     "metadata": {},
     "output_type": "execute_result"
    }
   ],
   "source": [
    "np_olympic_country_Gold > 20"
   ]
  },
  {
   "cell_type": "code",
   "execution_count": 9,
   "id": "379473c4",
   "metadata": {},
   "outputs": [
    {
     "name": "stdout",
     "output_type": "stream",
     "text": [
      "GBR => gold medal 29, Total medals 65\n",
      "China => gold medal 38, Total medals 88\n",
      "RUS => gold medal 24, Total medals 81\n",
      "US => gold medal 46, Total medals 103\n",
      "KOR => gold medal 13, Total medals 28\n",
      "JPN => gold medal 7, Total medals 38\n",
      "GER => gold medal 11, Total medals 36\n"
     ]
    }
   ],
   "source": [
    "# Task03: Print the medal tally\n",
    "# Task04: Print each country name with the corresponding number of gold medals\n",
    "# Task05: Print each country name with the total number of medals won\n",
    "\n",
    "for i in range(len(np_olympic_country)):\n",
    "    gold_medal = np_olympic_country_Gold[i]\n",
    "    country  = np_olympic_country[i]\n",
    "    total_medal = np_olympic_country_Bronze[i]+np_olympic_country_Gold[i]+np_olympic_country_Silver[i]\n",
    "    print('{} => gold medal {}, Total medals {}'.format(country,gold_medal,total_medal))"
   ]
  }
 ],
 "metadata": {
  "kernelspec": {
   "display_name": "Python 3 (ipykernel)",
   "language": "python",
   "name": "python3"
  },
  "language_info": {
   "codemirror_mode": {
    "name": "ipython",
    "version": 3
   },
   "file_extension": ".py",
   "mimetype": "text/x-python",
   "name": "python",
   "nbconvert_exporter": "python",
   "pygments_lexer": "ipython3",
   "version": "3.9.7"
  }
 },
 "nbformat": 4,
 "nbformat_minor": 5
}
